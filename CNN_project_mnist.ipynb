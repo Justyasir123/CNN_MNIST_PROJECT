{
  "nbformat": 4,
  "nbformat_minor": 0,
  "metadata": {
    "colab": {
      "provenance": [],
      "gpuType": "T4",
      "authorship_tag": "ABX9TyMKdQ1M5L40wWn6q+i2VcWA",
      "include_colab_link": true
    },
    "kernelspec": {
      "name": "python3",
      "display_name": "Python 3"
    },
    "language_info": {
      "name": "python"
    },
    "accelerator": "GPU"
  },
  "cells": [
    {
      "cell_type": "markdown",
      "metadata": {
        "id": "view-in-github",
        "colab_type": "text"
      },
      "source": [
        "<a href=\"https://colab.research.google.com/github/Justyasir123/CNN_MNIST_PROJECT/blob/main/CNN_project_mnist.ipynb\" target=\"_parent\"><img src=\"https://colab.research.google.com/assets/colab-badge.svg\" alt=\"Open In Colab\"/></a>"
      ]
    },
    {
      "cell_type": "markdown",
      "source": [
        "# **PROJECT: Handwritten Digit Classification using CNN in TensorFlow**"
      ],
      "metadata": {
        "id": "G57OiWkJ5Uk2"
      }
    },
    {
      "cell_type": "markdown",
      "source": [
        "# **1. Introduction & Relevance of the Project**\n",
        "Handwritten digit classification is a fundamental problem in machine learning and deep learning. It\n",
        "serves as an excellent introduction to Convolutional Neural Networks (CNNs), a type of deep learning\n",
        "model that excels in image classification tasks. The ability of a computer to recognize handwritten\n",
        "digits is widely used in applications like postal mail sorting, bank check verification, and digit\n",
        "recognition on touch-based devices.\n",
        "This project will help students understand the essential concepts of CNNs, image processing, and\n",
        "model training using TensorFlow and Keras. By working on this project, students will gain hands-on\n",
        "experience in building and evaluating deep learning models, an essential skill in modern AI\n",
        "applications."
      ],
      "metadata": {
        "id": "uy88zZAq5lar"
      }
    },
    {
      "cell_type": "markdown",
      "source": [
        "# **2. Project Objective**\n",
        "Students are required to build a simple Convolutional Neural Network (CNN) model to classify\n",
        "handwritten digits from the famous MNIST dataset. The goal is to train a model that can accurately\n",
        "predict digits (0-9) based on input images."
      ],
      "metadata": {
        "id": "Jlvgn5C76YSA"
      }
    },
    {
      "cell_type": "markdown",
      "source": [
        "**Step 1: Dataset Understanding and Preprocessing**"
      ],
      "metadata": {
        "id": "Uz9-2ECW8woE"
      }
    },
    {
      "cell_type": "markdown",
      "source": [
        "IMPORTING THE DEPENDENCIES"
      ],
      "metadata": {
        "id": "397cYBjA7Jw7"
      }
    },
    {
      "cell_type": "code",
      "source": [
        "import tensorflow as tf\n",
        "from tensorflow.keras import layers,models\n",
        "import numpy as np\n",
        "import matplotlib.pyplot as plt"
      ],
      "metadata": {
        "id": "aMkrgsn26mtg"
      },
      "execution_count": 7,
      "outputs": []
    },
    {
      "cell_type": "markdown",
      "source": [
        "Load the MNIST dataset using TensorFlow/Keras."
      ],
      "metadata": {
        "id": "sq_LYWVZ7NNB"
      }
    },
    {
      "cell_type": "code",
      "source": [
        "(X_train,y_train),(X_test,y_test)=tf.keras.datasets.mnist.load_data()"
      ],
      "metadata": {
        "id": "UQC70Lt84Jhe"
      },
      "execution_count": 8,
      "outputs": []
    },
    {
      "cell_type": "markdown",
      "source": [
        "Understand the dataset (60,000 training images and 10,000 test images, each of size 28x28\n",
        "pixels, grayscale)."
      ],
      "metadata": {
        "id": "vanqLC9M74uT"
      }
    },
    {
      "cell_type": "code",
      "source": [
        "X_train.shape"
      ],
      "metadata": {
        "colab": {
          "base_uri": "https://localhost:8080/"
        },
        "id": "LhfjbjFT7kQI",
        "outputId": "ad1240a0-7f8a-47cf-dd18-d2acb46802a9"
      },
      "execution_count": 9,
      "outputs": [
        {
          "output_type": "execute_result",
          "data": {
            "text/plain": [
              "(60000, 28, 28)"
            ]
          },
          "metadata": {},
          "execution_count": 9
        }
      ]
    },
    {
      "cell_type": "code",
      "source": [
        "X_test.shape"
      ],
      "metadata": {
        "colab": {
          "base_uri": "https://localhost:8080/"
        },
        "id": "Rq2nQXLb7mLv",
        "outputId": "00a1d61f-48e3-4b50-819b-3bf39c518256"
      },
      "execution_count": 10,
      "outputs": [
        {
          "output_type": "execute_result",
          "data": {
            "text/plain": [
              "(10000, 28, 28)"
            ]
          },
          "metadata": {},
          "execution_count": 10
        }
      ]
    },
    {
      "cell_type": "markdown",
      "source": [
        "Normalize pixel values to the range [0,1] for better model performance."
      ],
      "metadata": {
        "id": "lP21J-tn787p"
      }
    },
    {
      "cell_type": "code",
      "source": [
        "X_train=X_train/255"
      ],
      "metadata": {
        "id": "tuyFZ_Rt7tbq"
      },
      "execution_count": 11,
      "outputs": []
    },
    {
      "cell_type": "code",
      "source": [
        "X_test=X_test/255"
      ],
      "metadata": {
        "id": "ArNrhUNS8J4V"
      },
      "execution_count": 12,
      "outputs": []
    },
    {
      "cell_type": "markdown",
      "source": [
        "Reshape the input data to fit into a CNN model."
      ],
      "metadata": {
        "id": "_bUl-hu_8T_B"
      }
    },
    {
      "cell_type": "code",
      "source": [
        "X_train=X_train.reshape(-1,28,28,1)\n",
        "X_test=X_test.reshape(-1,28,28,1)"
      ],
      "metadata": {
        "id": "Bfp6hWGY8Njm"
      },
      "execution_count": 13,
      "outputs": []
    },
    {
      "cell_type": "markdown",
      "source": [
        "**Step 2: Building the CNN Model**"
      ],
      "metadata": {
        "id": "EGt5csG78ss-"
      }
    },
    {
      "cell_type": "markdown",
      "source": [
        "**Define a CNN architecture with the following layers:**\n",
        "- Convolutional Layer (to extract image features)\n",
        "- Pooling Layer (to reduce spatial dimensions)\n",
        "- Flatten Layer (to convert 2D data to 1D)\n",
        "- Fully Connected (Dense) Layers\n",
        "- Output Layer (using Softmax activation for classification)"
      ],
      "metadata": {
        "id": "sit5j_QD_tZy"
      }
    },
    {
      "cell_type": "code",
      "source": [
        "model=models.Sequential()\n",
        "model.add(layers.Conv2D(32,(3,3),activation='relu', input_shape=(28,28,1))),\n",
        "model.add(layers.MaxPooling2D((2,2))),\n",
        "\n",
        "model.add(layers.Conv2D(64,(3,3),activation='relu')),\n",
        "model.add(layers.MaxPooling2D(2,2)),\n",
        "\n",
        "model.add(layers.Conv2D(64,(3,3),activation='relu')),\n",
        "model.add(layers.MaxPooling2D(2,2)),\n",
        "\n",
        "# model.add(layers.Conv2D(32,(3,3),activation='relu')),\n",
        "# model.add(layers.MaxPooling2D(2,2)),\n",
        "\n",
        "model.add(layers.Flatten()),\n",
        "model.add(layers.Dense(64,activation='relu')),\n",
        "model.add(layers.Dense(10,activation='softmax'))\n",
        "\n"
      ],
      "metadata": {
        "colab": {
          "base_uri": "https://localhost:8080/"
        },
        "id": "9MdWTo6V8lEZ",
        "outputId": "70727234-6e64-4f75-d9af-a0f9f9c9711a"
      },
      "execution_count": 58,
      "outputs": [
        {
          "output_type": "stream",
          "name": "stderr",
          "text": [
            "/usr/local/lib/python3.11/dist-packages/keras/src/layers/convolutional/base_conv.py:107: UserWarning: Do not pass an `input_shape`/`input_dim` argument to a layer. When using Sequential models, prefer using an `Input(shape)` object as the first layer in the model instead.\n",
            "  super().__init__(activity_regularizer=activity_regularizer, **kwargs)\n"
          ]
        }
      ]
    },
    {
      "cell_type": "markdown",
      "source": [
        "**Compile the model with an appropriate loss function, optimizer, and evaluation metric.**"
      ],
      "metadata": {
        "id": "oGzj2MjBAdL_"
      }
    },
    {
      "cell_type": "code",
      "source": [
        "model.compile(optimizer='adam',loss='sparse_categorical_crossentropy',metrics=['accuracy'])"
      ],
      "metadata": {
        "id": "66jnhZNO-seX"
      },
      "execution_count": 59,
      "outputs": []
    },
    {
      "cell_type": "markdown",
      "source": [
        "**Step 3: Training the Model**"
      ],
      "metadata": {
        "id": "PqsRsmPrA8c_"
      }
    },
    {
      "cell_type": "markdown",
      "source": [
        "- Split the dataset into training and validation sets.\n",
        "- Train the model on the training dataset.\n",
        "- Monitor accuracy and loss over epochs."
      ],
      "metadata": {
        "id": "2vo3q2nJBPhE"
      }
    },
    {
      "cell_type": "code",
      "source": [
        "history=model.fit(X_train,y_train,epochs=10,validation_split=0.2)"
      ],
      "metadata": {
        "colab": {
          "base_uri": "https://localhost:8080/"
        },
        "id": "noA3WOUuA1Wp",
        "outputId": "60e9cbac-2246-4867-dcee-76d1655ba5fb"
      },
      "execution_count": 60,
      "outputs": [
        {
          "output_type": "stream",
          "name": "stdout",
          "text": [
            "Epoch 1/10\n",
            "\u001b[1m1500/1500\u001b[0m \u001b[32m━━━━━━━━━━━━━━━━━━━━\u001b[0m\u001b[37m\u001b[0m \u001b[1m10s\u001b[0m 5ms/step - accuracy: 0.8378 - loss: 0.5086 - val_accuracy: 0.9672 - val_loss: 0.1059\n",
            "Epoch 2/10\n",
            "\u001b[1m1500/1500\u001b[0m \u001b[32m━━━━━━━━━━━━━━━━━━━━\u001b[0m\u001b[37m\u001b[0m \u001b[1m8s\u001b[0m 4ms/step - accuracy: 0.9724 - loss: 0.0909 - val_accuracy: 0.9774 - val_loss: 0.0719\n",
            "Epoch 3/10\n",
            "\u001b[1m1500/1500\u001b[0m \u001b[32m━━━━━━━━━━━━━━━━━━━━\u001b[0m\u001b[37m\u001b[0m \u001b[1m10s\u001b[0m 4ms/step - accuracy: 0.9816 - loss: 0.0592 - val_accuracy: 0.9796 - val_loss: 0.0669\n",
            "Epoch 4/10\n",
            "\u001b[1m1500/1500\u001b[0m \u001b[32m━━━━━━━━━━━━━━━━━━━━\u001b[0m\u001b[37m\u001b[0m \u001b[1m11s\u001b[0m 4ms/step - accuracy: 0.9863 - loss: 0.0456 - val_accuracy: 0.9818 - val_loss: 0.0625\n",
            "Epoch 5/10\n",
            "\u001b[1m1500/1500\u001b[0m \u001b[32m━━━━━━━━━━━━━━━━━━━━\u001b[0m\u001b[37m\u001b[0m \u001b[1m6s\u001b[0m 4ms/step - accuracy: 0.9879 - loss: 0.0384 - val_accuracy: 0.9827 - val_loss: 0.0562\n",
            "Epoch 6/10\n",
            "\u001b[1m1500/1500\u001b[0m \u001b[32m━━━━━━━━━━━━━━━━━━━━\u001b[0m\u001b[37m\u001b[0m \u001b[1m6s\u001b[0m 4ms/step - accuracy: 0.9903 - loss: 0.0293 - val_accuracy: 0.9815 - val_loss: 0.0630\n",
            "Epoch 7/10\n",
            "\u001b[1m1500/1500\u001b[0m \u001b[32m━━━━━━━━━━━━━━━━━━━━\u001b[0m\u001b[37m\u001b[0m \u001b[1m11s\u001b[0m 4ms/step - accuracy: 0.9931 - loss: 0.0207 - val_accuracy: 0.9857 - val_loss: 0.0513\n",
            "Epoch 8/10\n",
            "\u001b[1m1500/1500\u001b[0m \u001b[32m━━━━━━━━━━━━━━━━━━━━\u001b[0m\u001b[37m\u001b[0m \u001b[1m10s\u001b[0m 4ms/step - accuracy: 0.9930 - loss: 0.0213 - val_accuracy: 0.9829 - val_loss: 0.0570\n",
            "Epoch 9/10\n",
            "\u001b[1m1500/1500\u001b[0m \u001b[32m━━━━━━━━━━━━━━━━━━━━\u001b[0m\u001b[37m\u001b[0m \u001b[1m6s\u001b[0m 4ms/step - accuracy: 0.9944 - loss: 0.0162 - val_accuracy: 0.9860 - val_loss: 0.0584\n",
            "Epoch 10/10\n",
            "\u001b[1m1500/1500\u001b[0m \u001b[32m━━━━━━━━━━━━━━━━━━━━\u001b[0m\u001b[37m\u001b[0m \u001b[1m7s\u001b[0m 5ms/step - accuracy: 0.9949 - loss: 0.0153 - val_accuracy: 0.9878 - val_loss: 0.0508\n"
          ]
        }
      ]
    },
    {
      "cell_type": "markdown",
      "source": [
        "**Step 4: Evaluating the Model**\n",
        "- Evaluate model performance on the test dataset."
      ],
      "metadata": {
        "id": "IupVvxk_Bu2s"
      }
    },
    {
      "cell_type": "code",
      "source": [
        "test_accuracy=model.evaluate(X_test,y_test)\n",
        "test_accuracy"
      ],
      "metadata": {
        "colab": {
          "base_uri": "https://localhost:8080/"
        },
        "id": "5aHzYif9Bi0z",
        "outputId": "7942ffe7-a84b-479f-d59c-ec95aa73ef81"
      },
      "execution_count": 61,
      "outputs": [
        {
          "output_type": "stream",
          "name": "stdout",
          "text": [
            "\u001b[1m313/313\u001b[0m \u001b[32m━━━━━━━━━━━━━━━━━━━━\u001b[0m\u001b[37m\u001b[0m \u001b[1m1s\u001b[0m 3ms/step - accuracy: 0.9833 - loss: 0.0601\n"
          ]
        },
        {
          "output_type": "execute_result",
          "data": {
            "text/plain": [
              "[0.049103401601314545, 0.9873999953269958]"
            ]
          },
          "metadata": {},
          "execution_count": 61
        }
      ]
    },
    {
      "cell_type": "markdown",
      "source": [
        "- Generate accuracy and loss plots.\n"
      ],
      "metadata": {
        "id": "nnmRxIwLCUzb"
      }
    },
    {
      "cell_type": "code",
      "source": [
        "plt.figure(figsize=(12, 4))"
      ],
      "metadata": {
        "colab": {
          "base_uri": "https://localhost:8080/",
          "height": 52
        },
        "id": "rRJIJXCYCY-D",
        "outputId": "f6aa557e-14a1-49e9-b4a9-85e94bd0858c"
      },
      "execution_count": 62,
      "outputs": [
        {
          "output_type": "execute_result",
          "data": {
            "text/plain": [
              "<Figure size 1200x400 with 0 Axes>"
            ]
          },
          "metadata": {},
          "execution_count": 62
        },
        {
          "output_type": "display_data",
          "data": {
            "text/plain": [
              "<Figure size 1200x400 with 0 Axes>"
            ]
          },
          "metadata": {}
        }
      ]
    },
    {
      "cell_type": "markdown",
      "source": [
        "**ACCURACY PLOT**"
      ],
      "metadata": {
        "id": "2gZcgYvzC0j0"
      }
    },
    {
      "cell_type": "code",
      "source": [
        "plt.subplot(1,2,1)\n",
        "plt.plot(history.history['accuracy'],label='Training Accuracy')\n",
        "plt.plot(history.history['val_accuracy'],label=\"Validation Accuracy\")\n",
        "plt.xlabel('Epochs')\n",
        "plt.ylabel('Accuracy')\n",
        "plt.title(\"TRAINING AND VALIDATION ACCURACY\")\n",
        "plt.legend()"
      ],
      "metadata": {
        "colab": {
          "base_uri": "https://localhost:8080/",
          "height": 489
        },
        "id": "KNMVZeUxCypj",
        "outputId": "83f164fd-7986-420a-fba7-fd44ea05c7fd"
      },
      "execution_count": 63,
      "outputs": [
        {
          "output_type": "execute_result",
          "data": {
            "text/plain": [
              "<matplotlib.legend.Legend at 0x7a3930659b90>"
            ]
          },
          "metadata": {},
          "execution_count": 63
        },
        {
          "output_type": "display_data",
          "data": {
            "text/plain": [
              "<Figure size 640x480 with 1 Axes>"
            ],
            "image/png": "[encoded data removed]"
          },
          "metadata": {}
        }
      ]
    },
    {
      "cell_type": "markdown",
      "source": [
        "**LOSS PLOT**"
      ],
      "metadata": {
        "id": "shpU06rJD7xU"
      }
    },
    {
      "cell_type": "code",
      "source": [
        "plt.subplot(1,2,1)\n",
        "plt.plot(history.history['loss'],label=\"Training Loss\")\n",
        "plt.plot(history.history['val_loss'],label=\"Validation Loss\")\n",
        "plt.xlabel('Epochs')\n",
        "plt.ylabel('Loss')\n",
        "plt.title(\"LOSS OF TRAINING AND VALIDATION\")"
      ],
      "metadata": {
        "colab": {
          "base_uri": "https://localhost:8080/",
          "height": 489
        },
        "id": "eqmFnU1KEASg",
        "outputId": "c26ccefb-4b11-4285-859e-805edf2aa32c"
      },
      "execution_count": 64,
      "outputs": [
        {
          "output_type": "execute_result",
          "data": {
            "text/plain": [
              "Text(0.5, 1.0, 'LOSS OF TRAINING AND VALIDATION')"
            ]
          },
          "metadata": {},
          "execution_count": 64
        },
        {
          "output_type": "display_data",
          "data": {
            "text/plain": [
              "<Figure size 640x480 with 1 Axes>"
            ],
            "image/png": "[encoded data removed]"
          },
          "metadata": {}
        }
      ]
    },
    {
      "cell_type": "markdown",
      "source": [
        "**SAVE THE MODEL FILE**"
      ],
      "metadata": {
        "id": "xB3UsdBpGeYu"
      }
    },
    {
      "cell_type": "code",
      "source": [
        "model.save('digit_cnn_model.h5')"
      ],
      "metadata": {
        "colab": {
          "base_uri": "https://localhost:8080/"
        },
        "id": "PdfVOwowGiG8",
        "outputId": "0dbf6383-12f2-4489-c7e8-e4cb9f431634"
      },
      "execution_count": 65,
      "outputs": [
        {
          "output_type": "stream",
          "name": "stderr",
          "text": [
            "WARNING:absl:You are saving your model as an HDF5 file via `model.save()` or `keras.saving.save_model(model)`. This file format is considered legacy. We recommend using instead the native Keras format, e.g. `model.save('my_model.keras')` or `keras.saving.save_model(model, 'my_model.keras')`. \n"
          ]
        }
      ]
    },
    {
      "cell_type": "markdown",
      "source": [
        "**Test the model on some sample handwritten digits**"
      ],
      "metadata": {
        "id": "MNvCu4oWCWsZ"
      }
    },
    {
      "cell_type": "code",
      "source": [
        "sample_images=X_test[:5]\n",
        "sample_label=y_test[:5]\n",
        "predictions=model.predict(sample_images)"
      ],
      "metadata": {
        "colab": {
          "base_uri": "https://localhost:8080/"
        },
        "id": "12gUEalNCJ2i",
        "outputId": "2cb6d720-58e2-432a-d3de-d195420c9c4f"
      },
      "execution_count": 66,
      "outputs": [
        {
          "output_type": "stream",
          "name": "stdout",
          "text": [
            "\u001b[1m1/1\u001b[0m \u001b[32m━━━━━━━━━━━━━━━━━━━━\u001b[0m\u001b[37m\u001b[0m \u001b[1m1s\u001b[0m 538ms/step\n"
          ]
        }
      ]
    },
    {
      "cell_type": "code",
      "source": [
        "plt.figure(figsize=(10,5))\n",
        "for i in range(5):\n",
        "  plt.subplot(1,5,i+1)\n",
        "  plt.imshow(sample_images[i].reshape(28,28),cmap='gray')\n",
        "  plt.title(f\"predicted:{np.argmax(predictions[i])} \\n Actual:{sample_label[i]}\")\n",
        "  plt.axis('off')\n",
        "plt.show()"
      ],
      "metadata": {
        "colab": {
          "base_uri": "https://localhost:8080/",
          "height": 213
        },
        "id": "RKRpNUocHJF1",
        "outputId": "48ecc64f-7aa8-4c49-ea7f-debc7e751810"
      },
      "execution_count": 68,
      "outputs": [
        {
          "output_type": "display_data",
          "data": {
            "text/plain": [
              "<Figure size 1000x500 with 5 Axes>"
            ],
            "image/png": "[encoded data removed]"
          },
          "metadata": {}
        }
      ]
    },
    {
      "cell_type": "markdown",
      "source": [
        "# **SUMMARY:**\n",
        "\n",
        "***From the given project on \"Handwritten Digit Classification using CNN in TensorFlow\", it can be analysed that:***\n",
        "- ***The CNN model achieved a test accuracy of over 98%, indicating strong performance in classifying handwritten digits.***\n",
        "- ***The accuracy and loss plots showed a consistent improvement over epochs with minimal overfitting.***\n",
        "- ***Testing on sample images demonstrated the model's ability to generalize well.***\n",
        "\n",
        "***Afterall, Visualization of predictions on sample images provided insights into model performance.Fortunately, predictions were perfectly predicted.***"
      ],
      "metadata": {
        "id": "zomkKNnXKWae"
      }
    },
    {
      "cell_type": "code",
      "source": [],
      "metadata": {
        "id": "94TLns1YKJv-"
      },
      "execution_count": null,
      "outputs": []
    }
  ]
}